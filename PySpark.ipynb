{
 "cells": [
  {
   "cell_type": "markdown",
   "metadata": {},
   "source": [
    "## Installing PySpark"
   ]
  },
  {
   "cell_type": "code",
   "execution_count": 2,
   "metadata": {},
   "outputs": [
    {
     "name": "stdout",
     "output_type": "stream",
     "text": [
      "Requirement already satisfied: pyspark in c:\\users\\hp\\desktop\\task-1\\my_venv\\lib\\site-packages (3.5.1)\n",
      "Requirement already satisfied: py4j==0.10.9.7 in c:\\users\\hp\\desktop\\task-1\\my_venv\\lib\\site-packages (from pyspark) (0.10.9.7)\n",
      "Note: you may need to restart the kernel to use updated packages.\n"
     ]
    }
   ],
   "source": [
    "pip install pyspark"
   ]
  },
  {
   "cell_type": "markdown",
   "metadata": {},
   "source": [
    "## PySpark Setup with db and basic operations on CSV"
   ]
  },
  {
   "cell_type": "code",
   "execution_count": 8,
   "metadata": {},
   "outputs": [],
   "source": [
    "from pyspark.sql import SparkSession"
   ]
  },
  {
   "cell_type": "code",
   "execution_count": 9,
   "metadata": {},
   "outputs": [],
   "source": [
    "import sqlite3\n",
    "\n",
    "# Reconnect to the SQLite database\n",
    "conn = sqlite3.connect('Airlines_data.sqlite') #It contains 8 tables\n",
    "\n",
    "conn.close()"
   ]
  },
  {
   "cell_type": "code",
   "execution_count": 10,
   "metadata": {},
   "outputs": [],
   "source": [
    "import os\n",
    "\n",
    "# Initialize Spark session\n",
    "from pyspark.sql import SparkSession\n",
    "\n",
    "spark= (SparkSession.builder\n",
    "    .master(\"local\")\n",
    "    .appName(\"AirlineDataAnalysis\")\n",
    "    .config(\n",
    "        \"spark.jars\",\n",
    "        \"{}/sqlite-jdbc-3.34.0.jar\".format(os.getcwd()))\n",
    "    .config(\n",
    "        \"spark.driver.extraClassPath\",\n",
    "        \"{}/sqlite-jdbc-3.34.0.jar\".format(os.getcwd()))\n",
    "    .getOrCreate())"
   ]
  },
  {
   "cell_type": "markdown",
   "metadata": {},
   "source": [
    "#### operation on aircrafts_data "
   ]
  },
  {
   "cell_type": "code",
   "execution_count": 64,
   "metadata": {},
   "outputs": [],
   "source": [
    "# Load data into PySpark DataFrames\n",
    "\n",
    "aircrafts_data = spark.read.csv('AIR_CSV/aircrafts_data.csv', header=True, inferSchema=True)"
   ]
  },
  {
   "cell_type": "code",
   "execution_count": 6,
   "metadata": {},
   "outputs": [
    {
     "name": "stdout",
     "output_type": "stream",
     "text": [
      "root\n",
      " |-- aircraft_code: string (nullable = true)\n",
      " |-- model: string (nullable = true)\n",
      " |-- range: string (nullable = true)\n",
      "\n"
     ]
    }
   ],
   "source": [
    "# Show schema and data\n",
    "aircrafts_data.printSchema()"
   ]
  },
  {
   "cell_type": "code",
   "execution_count": 7,
   "metadata": {},
   "outputs": [
    {
     "name": "stdout",
     "output_type": "stream",
     "text": [
      "+-------------+--------------------+--------------------+\n",
      "|aircraft_code|               model|               range|\n",
      "+-------------+--------------------+--------------------+\n",
      "|          773|\"{\"\"en\"\": \"\"Boein...| \"\"ru\"\": \"\"Боинг ...|\n",
      "|          763|\"{\"\"en\"\": \"\"Boein...| \"\"ru\"\": \"\"Боинг ...|\n",
      "|          SU9|\"{\"\"en\"\": \"\"Sukho...| \"\"ru\"\": \"\"Сухой ...|\n",
      "|          320|\"{\"\"en\"\": \"\"Airbu...| \"\"ru\"\": \"\"Аэробу...|\n",
      "|          321|\"{\"\"en\"\": \"\"Airbu...| \"\"ru\"\": \"\"Аэробу...|\n",
      "+-------------+--------------------+--------------------+\n",
      "only showing top 5 rows\n",
      "\n"
     ]
    }
   ],
   "source": [
    "#display the contents of a DataFrame in a tabular format\n",
    "\n",
    "aircrafts_data.show(5)"
   ]
  },
  {
   "cell_type": "code",
   "execution_count": 8,
   "metadata": {},
   "outputs": [
    {
     "name": "stdout",
     "output_type": "stream",
     "text": [
      "+-------------+\n",
      "|aircraft_code|\n",
      "+-------------+\n",
      "|          SU9|\n",
      "|          320|\n",
      "|          733|\n",
      "|          773|\n",
      "|          319|\n",
      "|          CN1|\n",
      "|          763|\n",
      "|          321|\n",
      "|          CR2|\n",
      "+-------------+\n",
      "\n"
     ]
    }
   ],
   "source": [
    "# Select distinct values for key columns\n",
    "aircrafts_data.select('aircraft_code').distinct().show()"
   ]
  },
  {
   "cell_type": "markdown",
   "metadata": {},
   "source": [
    "#### operation on airports_data"
   ]
  },
  {
   "cell_type": "code",
   "execution_count": 23,
   "metadata": {},
   "outputs": [],
   "source": [
    "# Load data into PySpark DataFrames\n",
    "\n",
    "airports_data = spark.read.csv('AIR_CSV/airports_data.csv', header=True, inferSchema=True)"
   ]
  },
  {
   "cell_type": "code",
   "execution_count": 11,
   "metadata": {},
   "outputs": [
    {
     "name": "stdout",
     "output_type": "stream",
     "text": [
      "root\n",
      " |-- airport_code: string (nullable = true)\n",
      " |-- airport_name: string (nullable = true)\n",
      " |-- city: string (nullable = true)\n",
      " |-- coordinates: string (nullable = true)\n",
      " |-- timezone: string (nullable = true)\n",
      "\n"
     ]
    }
   ],
   "source": [
    "# Show schema and data\n",
    "airports_data.printSchema()"
   ]
  },
  {
   "cell_type": "code",
   "execution_count": 12,
   "metadata": {},
   "outputs": [
    {
     "name": "stdout",
     "output_type": "stream",
     "text": [
      "+------------+--------------------+--------------------+--------------------+--------------------+\n",
      "|airport_code|        airport_name|                city|         coordinates|            timezone|\n",
      "+------------+--------------------+--------------------+--------------------+--------------------+\n",
      "|         YKS|\"{\"\"en\"\": \"\"Yakut...| \"\"ru\"\": \"\"Якутск...|\"{\"\"en\"\": \"\"Yakut...| \"\"ru\"\": \"\"Якутск...|\n",
      "|         MJZ|\"{\"\"en\"\": \"\"Mirny...| \"\"ru\"\": \"\"Мирный...|\"{\"\"en\"\": \"\"Mirnyj\"\"| \"\"ru\"\": \"\"Мирный...|\n",
      "|         KHV|\"{\"\"en\"\": \"\"Khaba...| \"\"ru\"\": \"\"Хабаро...|\"{\"\"en\"\": \"\"Khaba...| \"\"ru\"\": \"\"Хабаро...|\n",
      "|         PKC|\"{\"\"en\"\": \"\"Yeliz...| \"\"ru\"\": \"\"Елизов...|\"{\"\"en\"\": \"\"Petro...| \"\"ru\"\": \"\"Петроп...|\n",
      "|         UUS|\"{\"\"en\"\": \"\"Yuzhn...| \"\"ru\"\": \"\"Хомуто...|\"{\"\"en\"\": \"\"Yuzhn...| \"\"ru\"\": \"\"Южно-С...|\n",
      "+------------+--------------------+--------------------+--------------------+--------------------+\n",
      "only showing top 5 rows\n",
      "\n"
     ]
    }
   ],
   "source": [
    "#display the contents of a DataFrame in a tabular format\n",
    "\n",
    "airports_data.show(5)"
   ]
  },
  {
   "cell_type": "code",
   "execution_count": 13,
   "metadata": {},
   "outputs": [
    {
     "name": "stdout",
     "output_type": "stream",
     "text": [
      "+------------+\n",
      "|airport_code|\n",
      "+------------+\n",
      "|         SCW|\n",
      "|         NBC|\n",
      "|         ULV|\n",
      "|         NYM|\n",
      "|         KHV|\n",
      "|         UUA|\n",
      "|         KZN|\n",
      "|         CEK|\n",
      "|         KJA|\n",
      "|         OSW|\n",
      "|         ABA|\n",
      "|         ASF|\n",
      "|         UFA|\n",
      "|         NYA|\n",
      "|         TBW|\n",
      "|         ESL|\n",
      "|         RGK|\n",
      "|         REN|\n",
      "|         NFG|\n",
      "|         VOG|\n",
      "+------------+\n",
      "only showing top 20 rows\n",
      "\n"
     ]
    }
   ],
   "source": [
    "# Select distinct values for key columns\n",
    "airports_data.select('airport_code').distinct().show()"
   ]
  },
  {
   "cell_type": "markdown",
   "metadata": {},
   "source": [
    "#### operation on boarding_passes.csv"
   ]
  },
  {
   "cell_type": "code",
   "execution_count": 17,
   "metadata": {},
   "outputs": [],
   "source": [
    "# Load data into PySpark DataFrames\n",
    "\n",
    "boarding_passes = spark.read.csv('AIR_CSV/boarding_passes.csv', header=True, inferSchema=True)"
   ]
  },
  {
   "cell_type": "code",
   "execution_count": 18,
   "metadata": {},
   "outputs": [
    {
     "name": "stdout",
     "output_type": "stream",
     "text": [
      "root\n",
      " |-- ticket_no: long (nullable = true)\n",
      " |-- flight_id: integer (nullable = true)\n",
      " |-- boarding_no: integer (nullable = true)\n",
      " |-- seat_no: string (nullable = true)\n",
      "\n"
     ]
    }
   ],
   "source": [
    "# Show schema and data\n",
    "boarding_passes.printSchema()"
   ]
  },
  {
   "cell_type": "code",
   "execution_count": 25,
   "metadata": {},
   "outputs": [
    {
     "name": "stdout",
     "output_type": "stream",
     "text": [
      "+----------+---------+-----------+-------+\n",
      "| ticket_no|flight_id|boarding_no|seat_no|\n",
      "+----------+---------+-----------+-------+\n",
      "|5435212351|    30625|          1|     2D|\n",
      "|5435212386|    30625|          2|     3G|\n",
      "|5435212381|    30625|          3|     4H|\n",
      "|5432211370|    30625|          4|     5D|\n",
      "|5435212357|    30625|          5|    11A|\n",
      "|5435212360|    30625|          6|    11E|\n",
      "|5435212393|    30625|          7|    11H|\n",
      "|5435212374|    30625|          8|    12E|\n",
      "|5435212365|    30625|          9|    13D|\n",
      "|5435212378|    30625|         10|    14H|\n",
      "|5435212362|    30625|         11|    15E|\n",
      "|5435212334|    30625|         12|    15F|\n",
      "|5435212370|    30625|         13|    15K|\n",
      "|5435212329|    30625|         14|    15H|\n",
      "|5435725513|    30625|         15|    16D|\n",
      "|5435212328|    30625|         16|    16C|\n",
      "|5435630915|    30625|         17|    16E|\n",
      "|5435212388|    30625|         18|    17E|\n",
      "|5432159775|    30625|         19|    17D|\n",
      "|5435212382|    30625|         20|    17H|\n",
      "+----------+---------+-----------+-------+\n",
      "only showing top 20 rows\n",
      "\n"
     ]
    }
   ],
   "source": [
    "#display the contents of a DataFrame in a tabular format\n",
    "\n",
    "boarding_passes.show()"
   ]
  },
  {
   "cell_type": "code",
   "execution_count": 20,
   "metadata": {},
   "outputs": [
    {
     "name": "stdout",
     "output_type": "stream",
     "text": [
      "+----------+\n",
      "| ticket_no|\n",
      "+----------+\n",
      "|5435212382|\n",
      "|5435212330|\n",
      "|5433367230|\n",
      "|5434406691|\n",
      "|5433524850|\n",
      "|5434586171|\n",
      "|5433524848|\n",
      "|5435824169|\n",
      "|5435476635|\n",
      "|5434022532|\n",
      "|5432525710|\n",
      "|5432525640|\n",
      "|5434343604|\n",
      "|5435423639|\n",
      "|5435884414|\n",
      "|5434149521|\n",
      "|5434755718|\n",
      "|5434600341|\n",
      "|5435326497|\n",
      "|5435681423|\n",
      "+----------+\n",
      "only showing top 20 rows\n",
      "\n"
     ]
    }
   ],
   "source": [
    "# Select distinct values for key columns\n",
    "\n",
    "boarding_passes.select('ticket_no').distinct().show()"
   ]
  },
  {
   "cell_type": "markdown",
   "metadata": {},
   "source": [
    "#### operation on bookings.csv"
   ]
  },
  {
   "cell_type": "code",
   "execution_count": 17,
   "metadata": {},
   "outputs": [],
   "source": [
    "# Load data into PySpark DataFrames\n",
    "\n",
    "bookings = spark.read.csv('AIR_CSV/bookings.csv', header=True, inferSchema=True)"
   ]
  },
  {
   "cell_type": "code",
   "execution_count": 23,
   "metadata": {},
   "outputs": [
    {
     "name": "stdout",
     "output_type": "stream",
     "text": [
      "root\n",
      " |-- book_ref: string (nullable = true)\n",
      " |-- book_date: timestamp (nullable = true)\n",
      " |-- total_amount: integer (nullable = true)\n",
      "\n"
     ]
    }
   ],
   "source": [
    "# Show schema and data\n",
    "bookings.printSchema()"
   ]
  },
  {
   "cell_type": "code",
   "execution_count": 26,
   "metadata": {},
   "outputs": [
    {
     "name": "stdout",
     "output_type": "stream",
     "text": [
      "+----------+---------+-----------+-------+\n",
      "| ticket_no|flight_id|boarding_no|seat_no|\n",
      "+----------+---------+-----------+-------+\n",
      "|5435212351|    30625|          1|     2D|\n",
      "|5435212386|    30625|          2|     3G|\n",
      "|5435212381|    30625|          3|     4H|\n",
      "|5432211370|    30625|          4|     5D|\n",
      "|5435212357|    30625|          5|    11A|\n",
      "|5435212360|    30625|          6|    11E|\n",
      "|5435212393|    30625|          7|    11H|\n",
      "|5435212374|    30625|          8|    12E|\n",
      "|5435212365|    30625|          9|    13D|\n",
      "|5435212378|    30625|         10|    14H|\n",
      "|5435212362|    30625|         11|    15E|\n",
      "|5435212334|    30625|         12|    15F|\n",
      "|5435212370|    30625|         13|    15K|\n",
      "|5435212329|    30625|         14|    15H|\n",
      "|5435725513|    30625|         15|    16D|\n",
      "|5435212328|    30625|         16|    16C|\n",
      "|5435630915|    30625|         17|    16E|\n",
      "|5435212388|    30625|         18|    17E|\n",
      "|5432159775|    30625|         19|    17D|\n",
      "|5435212382|    30625|         20|    17H|\n",
      "+----------+---------+-----------+-------+\n",
      "only showing top 20 rows\n",
      "\n"
     ]
    }
   ],
   "source": [
    "#display the contents of a DataFrame in a tabular format\n",
    "boarding_passes.show()"
   ]
  },
  {
   "cell_type": "code",
   "execution_count": 22,
   "metadata": {},
   "outputs": [
    {
     "name": "stdout",
     "output_type": "stream",
     "text": [
      "+--------+\n",
      "|book_ref|\n",
      "+--------+\n",
      "|  00054E|\n",
      "|  004EDA|\n",
      "|  00597A|\n",
      "|  009C80|\n",
      "|  00A164|\n",
      "|  00DD00|\n",
      "|  01342C|\n",
      "|  01524D|\n",
      "|  01537F|\n",
      "|  016310|\n",
      "|  016602|\n",
      "|  01BE2B|\n",
      "|  020766|\n",
      "|  021518|\n",
      "|  023288|\n",
      "|  023814|\n",
      "|  024548|\n",
      "|  02BBB5|\n",
      "|  02CD0E|\n",
      "|  02E019|\n",
      "+--------+\n",
      "only showing top 20 rows\n",
      "\n"
     ]
    }
   ],
   "source": [
    "# Select distinct values for key columns\n",
    "\n",
    "bookings.select('book_ref').distinct().show()"
   ]
  },
  {
   "cell_type": "markdown",
   "metadata": {},
   "source": [
    "#### operation on flights.csv"
   ]
  },
  {
   "cell_type": "code",
   "execution_count": 11,
   "metadata": {},
   "outputs": [],
   "source": [
    "# Load data into PySpark DataFrames\n",
    "\n",
    "flights = spark.read.csv('AIR_CSV/flights.csv', header=True, inferSchema=True)"
   ]
  },
  {
   "cell_type": "code",
   "execution_count": 14,
   "metadata": {},
   "outputs": [
    {
     "name": "stdout",
     "output_type": "stream",
     "text": [
      "root\n",
      " |-- flight_id: integer (nullable = true)\n",
      " |-- flight_no: string (nullable = true)\n",
      " |-- scheduled_departure: timestamp (nullable = true)\n",
      " |-- scheduled_arrival: timestamp (nullable = true)\n",
      " |-- departure_airport: string (nullable = true)\n",
      " |-- arrival_airport: string (nullable = true)\n",
      " |-- status: string (nullable = true)\n",
      " |-- aircraft_code: string (nullable = true)\n",
      " |-- actual_departure: string (nullable = true)\n",
      " |-- actual_arrival: string (nullable = true)\n",
      "\n"
     ]
    }
   ],
   "source": [
    "# Show schema and data\n",
    "flights.printSchema()"
   ]
  },
  {
   "cell_type": "code",
   "execution_count": 29,
   "metadata": {},
   "outputs": [
    {
     "name": "stdout",
     "output_type": "stream",
     "text": [
      "+---------+---------+-------------------+-------------------+-----------------+---------------+---------+-------------+----------------+--------------+\n",
      "|flight_id|flight_no|scheduled_departure|  scheduled_arrival|departure_airport|arrival_airport|   status|aircraft_code|actual_departure|actual_arrival|\n",
      "+---------+---------+-------------------+-------------------+-----------------+---------------+---------+-------------+----------------+--------------+\n",
      "|     1185|   PG0134|2017-09-10 12:20:00|2017-09-10 17:25:00|              DME|            BTK|Scheduled|          319|              \\N|            \\N|\n",
      "|     3979|   PG0052|2017-08-25 17:20:00|2017-08-25 20:05:00|              VKO|            HMA|Scheduled|          CR2|              \\N|            \\N|\n",
      "|     4739|   PG0561|2017-09-05 15:00:00|2017-09-05 16:45:00|              VKO|            AER|Scheduled|          763|              \\N|            \\N|\n",
      "|     5502|   PG0529|2017-09-12 12:20:00|2017-09-12 13:50:00|              SVO|            UFA|Scheduled|          763|              \\N|            \\N|\n",
      "|     6938|   PG0461|2017-09-04 14:55:00|2017-09-04 15:50:00|              SVO|            ULV|Scheduled|          SU9|              \\N|            \\N|\n",
      "|     7784|   PG0667|2017-09-10 17:30:00|2017-09-10 20:00:00|              SVO|            KRO|Scheduled|          CR2|              \\N|            \\N|\n",
      "|     9478|   PG0360|2017-08-28 11:30:00|2017-08-28 14:05:00|              LED|            REN|Scheduled|          CR2|              \\N|            \\N|\n",
      "|    11085|   PG0569|2017-08-24 17:35:00|2017-08-24 18:40:00|              SVX|            SCW|Scheduled|          733|              \\N|            \\N|\n",
      "|    11847|   PG0498|2017-09-12 12:45:00|2017-09-12 17:25:00|              KZN|            IKT|Scheduled|          319|              \\N|            \\N|\n",
      "|    12012|   PG0621|2017-08-26 18:35:00|2017-08-26 19:30:00|              KZN|            MQF|Scheduled|          CR2|              \\N|            \\N|\n",
      "|    13113|   PG0612|2017-08-18 18:55:00|2017-08-18 22:35:00|              ROV|            KZN|Scheduled|          CN1|              \\N|            \\N|\n",
      "|    14806|   PG0676|2017-09-06 09:35:00|2017-09-06 10:15:00|              PEE|            CEK|Scheduled|          CR2|              \\N|            \\N|\n",
      "|    16837|   PG0010|2017-09-05 14:55:00|2017-09-05 17:05:00|              JOK|            VKO|Scheduled|          CN1|              \\N|            \\N|\n",
      "|    17173|   PG0059|2017-09-14 14:55:00|2017-09-14 17:15:00|              SCW|            NBC|Cancelled|          CN1|              \\N|            \\N|\n",
      "|    19807|   PG0035|2017-09-11 09:05:00|2017-09-11 11:55:00|              MJZ|            CNN|Scheduled|          CN1|              \\N|            \\N|\n",
      "|    23609|   PG0648|2017-08-31 14:05:00|2017-08-31 15:30:00|              UUA|            SVO|Scheduled|          CR2|              \\N|            \\N|\n",
      "|    23695|   PG0388|2017-08-26 13:25:00|2017-08-26 13:55:00|              UUA|            REN|Scheduled|          CR2|              \\N|            \\N|\n",
      "|    23780|   PG0098|2017-09-02 09:20:00|2017-09-02 13:00:00|              SWT|            CEK|Scheduled|          CN1|              \\N|            \\N|\n",
      "|    23945|   PG0076|2017-09-05 11:45:00|2017-09-05 14:20:00|              EYK|            DME|Scheduled|          CR2|              \\N|            \\N|\n",
      "|    24705|   PG0632|2017-08-26 17:30:00|2017-08-26 20:05:00|              TJM|            PES|Scheduled|          CR2|              \\N|            \\N|\n",
      "+---------+---------+-------------------+-------------------+-----------------+---------------+---------+-------------+----------------+--------------+\n",
      "only showing top 20 rows\n",
      "\n"
     ]
    }
   ],
   "source": [
    "#display the contents of a DataFrame in a tabular format\n",
    "flights.show()"
   ]
  },
  {
   "cell_type": "code",
   "execution_count": 32,
   "metadata": {},
   "outputs": [
    {
     "name": "stdout",
     "output_type": "stream",
     "text": [
      "+---------+\n",
      "|flight_id|\n",
      "+---------+\n",
      "|      148|\n",
      "|      463|\n",
      "|      471|\n",
      "|      496|\n",
      "|      833|\n",
      "|     1088|\n",
      "|     1238|\n",
      "|     1342|\n",
      "|     1580|\n",
      "|     1591|\n",
      "|     1645|\n",
      "|     1829|\n",
      "|     1959|\n",
      "|     2122|\n",
      "|     2142|\n",
      "|     2366|\n",
      "|     2659|\n",
      "|     2866|\n",
      "|     3175|\n",
      "|     3749|\n",
      "+---------+\n",
      "only showing top 20 rows\n",
      "\n"
     ]
    }
   ],
   "source": [
    "# Select distinct values for key columns\n",
    "\n",
    "flights.select('flight_id').distinct().show()"
   ]
  },
  {
   "cell_type": "markdown",
   "metadata": {},
   "source": [
    "#### operation on seats.csv"
   ]
  },
  {
   "cell_type": "code",
   "execution_count": 33,
   "metadata": {},
   "outputs": [],
   "source": [
    "# Load data into PySpark DataFrames\n",
    "\n",
    "seats = spark.read.csv('AIR_CSV/seats.csv', header=True, inferSchema=True)"
   ]
  },
  {
   "cell_type": "code",
   "execution_count": 34,
   "metadata": {},
   "outputs": [
    {
     "name": "stdout",
     "output_type": "stream",
     "text": [
      "root\n",
      " |-- aircraft_code: string (nullable = true)\n",
      " |-- seat_no: string (nullable = true)\n",
      " |-- fare_conditions: string (nullable = true)\n",
      "\n"
     ]
    }
   ],
   "source": [
    "# Show schema and data\n",
    "seats.printSchema()"
   ]
  },
  {
   "cell_type": "code",
   "execution_count": 35,
   "metadata": {},
   "outputs": [
    {
     "name": "stdout",
     "output_type": "stream",
     "text": [
      "+-------------+-------+---------------+\n",
      "|aircraft_code|seat_no|fare_conditions|\n",
      "+-------------+-------+---------------+\n",
      "|          319|     2A|       Business|\n",
      "|          319|     2C|       Business|\n",
      "|          319|     2D|       Business|\n",
      "|          319|     2F|       Business|\n",
      "|          319|     3A|       Business|\n",
      "|          319|     3C|       Business|\n",
      "|          319|     3D|       Business|\n",
      "|          319|     3F|       Business|\n",
      "|          319|     4A|       Business|\n",
      "|          319|     4C|       Business|\n",
      "|          319|     4D|       Business|\n",
      "|          319|     4F|       Business|\n",
      "|          319|     5A|       Business|\n",
      "|          319|     5C|       Business|\n",
      "|          319|     5D|       Business|\n",
      "|          319|     5F|       Business|\n",
      "|          319|     6A|        Economy|\n",
      "|          319|     6B|        Economy|\n",
      "|          319|     6C|        Economy|\n",
      "|          319|     6D|        Economy|\n",
      "+-------------+-------+---------------+\n",
      "only showing top 20 rows\n",
      "\n"
     ]
    }
   ],
   "source": [
    "#display the contents of a DataFrame in a tabular format\n",
    "seats.show()"
   ]
  },
  {
   "cell_type": "code",
   "execution_count": 36,
   "metadata": {},
   "outputs": [
    {
     "name": "stdout",
     "output_type": "stream",
     "text": [
      "+-------+\n",
      "|seat_no|\n",
      "+-------+\n",
      "|    20E|\n",
      "|    13C|\n",
      "|    23G|\n",
      "|    17A|\n",
      "|     3K|\n",
      "|    21K|\n",
      "|    43C|\n",
      "|    21E|\n",
      "|    13G|\n",
      "|    14D|\n",
      "|    16C|\n",
      "|    31F|\n",
      "|    14G|\n",
      "|    16H|\n",
      "|    17H|\n",
      "|    33C|\n",
      "|     1A|\n",
      "|    12K|\n",
      "|    26B|\n",
      "|    43D|\n",
      "+-------+\n",
      "only showing top 20 rows\n",
      "\n"
     ]
    }
   ],
   "source": [
    "# Select distinct values for key columns\n",
    "\n",
    "seats.select('seat_no').distinct().show()\n"
   ]
  },
  {
   "cell_type": "markdown",
   "metadata": {},
   "source": [
    "#### operation on ticket_flights.csv"
   ]
  },
  {
   "cell_type": "code",
   "execution_count": 66,
   "metadata": {},
   "outputs": [],
   "source": [
    "# Load data into PySpark DataFrames\n",
    "\n",
    "ticket_flights = spark.read.csv('AIR_CSV/ticket_flights.csv', header=True, inferSchema=True)"
   ]
  },
  {
   "cell_type": "code",
   "execution_count": 40,
   "metadata": {},
   "outputs": [
    {
     "name": "stdout",
     "output_type": "stream",
     "text": [
      "root\n",
      " |-- ticket_no: long (nullable = true)\n",
      " |-- flight_id: integer (nullable = true)\n",
      " |-- fare_conditions: string (nullable = true)\n",
      " |-- amount: integer (nullable = true)\n",
      "\n"
     ]
    }
   ],
   "source": [
    "# Show schema and data\n",
    "ticket_flights.printSchema()"
   ]
  },
  {
   "cell_type": "code",
   "execution_count": 42,
   "metadata": {},
   "outputs": [
    {
     "name": "stdout",
     "output_type": "stream",
     "text": [
      "+----------+---------+---------------+------+\n",
      "| ticket_no|flight_id|fare_conditions|amount|\n",
      "+----------+---------+---------------+------+\n",
      "|5432159776|    30625|       Business| 42100|\n",
      "|5435212351|    30625|       Business| 42100|\n",
      "|5435212386|    30625|       Business| 42100|\n",
      "|5435212381|    30625|       Business| 42100|\n",
      "|5432211370|    30625|       Business| 42100|\n",
      "|5435212357|    30625|        Comfort| 23900|\n",
      "|5435212360|    30625|        Comfort| 23900|\n",
      "|5435212393|    30625|        Comfort| 23900|\n",
      "|5435212374|    30625|        Comfort| 23900|\n",
      "|5435212365|    30625|        Comfort| 23900|\n",
      "|5435212378|    30625|        Comfort| 23900|\n",
      "|5435212362|    30625|        Comfort| 23900|\n",
      "|5435212334|    30625|        Comfort| 23900|\n",
      "|5435212329|    30625|        Comfort| 23900|\n",
      "|5435212370|    30625|        Comfort| 23900|\n",
      "|5435212328|    30625|        Comfort| 23900|\n",
      "|5435725513|    30625|        Comfort| 23900|\n",
      "|5435630915|    30625|        Comfort| 23900|\n",
      "|5435212388|    30625|        Economy| 14000|\n",
      "|5432159775|    30625|        Economy| 14000|\n",
      "+----------+---------+---------------+------+\n",
      "only showing top 20 rows\n",
      "\n"
     ]
    }
   ],
   "source": [
    "#display the contents of a DataFrame in a tabular format\n",
    "ticket_flights.show()"
   ]
  },
  {
   "cell_type": "code",
   "execution_count": 39,
   "metadata": {},
   "outputs": [
    {
     "name": "stdout",
     "output_type": "stream",
     "text": [
      "+----------+\n",
      "| ticket_no|\n",
      "+----------+\n",
      "|5435212382|\n",
      "|5435212330|\n",
      "|5433367230|\n",
      "|5434406691|\n",
      "|5433524850|\n",
      "|5434586171|\n",
      "|5433524848|\n",
      "|5435824169|\n",
      "|5435476635|\n",
      "|5434022532|\n",
      "|5432525710|\n",
      "|5432525640|\n",
      "|5434343604|\n",
      "|5435423639|\n",
      "|5435884414|\n",
      "|5434149521|\n",
      "|5434755718|\n",
      "|5434600341|\n",
      "|5435326497|\n",
      "|5435681423|\n",
      "+----------+\n",
      "only showing top 20 rows\n",
      "\n"
     ]
    }
   ],
   "source": [
    "# Select distinct values for key columns\n",
    "\n",
    "ticket_flights.select('ticket_no').distinct().show()"
   ]
  },
  {
   "cell_type": "markdown",
   "metadata": {},
   "source": [
    "#### operation on tickets.csv"
   ]
  },
  {
   "cell_type": "code",
   "execution_count": 43,
   "metadata": {},
   "outputs": [],
   "source": [
    "# Load data into PySpark DataFrames\n",
    "\n",
    "tickets = spark.read.csv('AIR_CSV/tickets.csv', header=True, inferSchema=True)"
   ]
  },
  {
   "cell_type": "code",
   "execution_count": 45,
   "metadata": {},
   "outputs": [
    {
     "name": "stdout",
     "output_type": "stream",
     "text": [
      "root\n",
      " |-- ticket_no: long (nullable = true)\n",
      " |-- book_ref: string (nullable = true)\n",
      " |-- passenger_id: string (nullable = true)\n",
      "\n"
     ]
    }
   ],
   "source": [
    "# Show schema and data\n",
    "tickets.printSchema()"
   ]
  },
  {
   "cell_type": "code",
   "execution_count": 46,
   "metadata": {},
   "outputs": [
    {
     "name": "stdout",
     "output_type": "stream",
     "text": [
      "+----------+--------+------------+\n",
      "| ticket_no|book_ref|passenger_id|\n",
      "+----------+--------+------------+\n",
      "|5432000987|  06B046| 8149 604011|\n",
      "|5432000988|  06B046| 8499 420203|\n",
      "|5432000989|  E170C3| 1011 752484|\n",
      "|5432000990|  E170C3| 4849 400049|\n",
      "|5432000991|  F313DD| 6615 976589|\n",
      "|5432000992|  F313DD| 2021 652719|\n",
      "|5432000993|  F313DD| 0817 363231|\n",
      "|5432000994|  CCC5CB| 2883 989356|\n",
      "|5432000995|  CCC5CB| 3097 995546|\n",
      "|5432000996|  1FB1E4| 6866 920231|\n",
      "|5432000997|  DE3EA6| 6030 369450|\n",
      "|5432000998|  4B75D1| 8675 588663|\n",
      "|5432000999|  9E60AA| 0764 728785|\n",
      "|5432001000|  69DAD1| 8954 972101|\n",
      "|5432001001|  69DAD1| 6772 748756|\n",
      "|5432001002|  69DAD1| 7364 216524|\n",
      "|5432001003|  08A2A5| 3635 182357|\n",
      "|5432001004|  08A2A5| 8252 507584|\n",
      "|5432001005|  C2CAB7| 1026 982766|\n",
      "|5432001006|  C6DA66| 7107 950192|\n",
      "+----------+--------+------------+\n",
      "only showing top 20 rows\n",
      "\n"
     ]
    }
   ],
   "source": [
    "#display the contents of a DataFrame in a tabular format\n",
    "tickets.show()"
   ]
  },
  {
   "cell_type": "code",
   "execution_count": 47,
   "metadata": {},
   "outputs": [
    {
     "name": "stdout",
     "output_type": "stream",
     "text": [
      "+----------+\n",
      "| ticket_no|\n",
      "+----------+\n",
      "|5432001017|\n",
      "|5432003796|\n",
      "|5432005211|\n",
      "|5432006769|\n",
      "|5432006840|\n",
      "|5432019789|\n",
      "|5432019892|\n",
      "|5432020100|\n",
      "|5432020176|\n",
      "|5432020194|\n",
      "|5432020454|\n",
      "|5432020457|\n",
      "|5432034555|\n",
      "|5432035038|\n",
      "|5432035620|\n",
      "|5432042498|\n",
      "|5432042933|\n",
      "|5432042941|\n",
      "|5432042958|\n",
      "|5432044490|\n",
      "+----------+\n",
      "only showing top 20 rows\n",
      "\n"
     ]
    }
   ],
   "source": [
    "# Select distinct values for key columns\n",
    "\n",
    "tickets.select('ticket_no').distinct().show()"
   ]
  },
  {
   "cell_type": "markdown",
   "metadata": {},
   "source": [
    "### Join relevant tables"
   ]
  },
  {
   "cell_type": "code",
   "execution_count": 48,
   "metadata": {},
   "outputs": [
    {
     "name": "stdout",
     "output_type": "stream",
     "text": [
      "+--------+-------------------+------------+------------+---------+---------+-------------------+\n",
      "|book_ref|          book_date|total_amount|passenger_id|flight_id|flight_no|scheduled_departure|\n",
      "+--------+-------------------+------------+------------+---------+---------+-------------------+\n",
      "|  06B046|2017-07-05 22:49:00|       12400| 8149 604011|    28935|   PG0242|2017-07-16 14:35:00|\n",
      "|  06B046|2017-07-05 22:49:00|       12400| 8499 420203|    28935|   PG0242|2017-07-16 14:35:00|\n",
      "|  E170C3|2017-06-29 04:25:00|       24700| 1011 752484|    28939|   PG0242|2017-07-17 14:35:00|\n",
      "|  E170C3|2017-06-29 04:25:00|       24700| 4849 400049|    28939|   PG0242|2017-07-17 14:35:00|\n",
      "|  F313DD|2017-07-03 07:07:00|       30900| 6615 976589|    28913|   PG0242|2017-07-18 14:35:00|\n",
      "|  F313DD|2017-07-03 07:07:00|       30900| 2021 652719|    28913|   PG0242|2017-07-18 14:35:00|\n",
      "|  F313DD|2017-07-03 07:07:00|       30900| 0817 363231|    28913|   PG0242|2017-07-18 14:35:00|\n",
      "|  CCC5CB|2017-07-07 05:33:00|       13000| 2883 989356|    28912|   PG0242|2017-07-19 14:35:00|\n",
      "|  CCC5CB|2017-07-07 05:33:00|       13000| 3097 995546|    28912|   PG0242|2017-07-19 14:35:00|\n",
      "|  1FB1E4|2017-07-06 02:38:00|        6200| 6866 920231|    28929|   PG0242|2017-07-20 14:35:00|\n",
      "|  DE3EA6|2017-07-04 23:42:00|        6200| 6030 369450|    28904|   PG0242|2017-07-21 14:35:00|\n",
      "|  4B75D1|2017-07-05 23:19:00|       18500| 8675 588663|    28904|   PG0242|2017-07-21 14:35:00|\n",
      "|  9E60AA|2017-06-30 22:14:00|        6200| 0764 728785|    28904|   PG0242|2017-07-21 14:35:00|\n",
      "|  69DAD1|2017-07-07 14:16:00|       18600| 8954 972101|    28895|   PG0242|2017-07-22 14:35:00|\n",
      "|  69DAD1|2017-07-07 14:16:00|       18600| 6772 748756|    28895|   PG0242|2017-07-22 14:35:00|\n",
      "|  69DAD1|2017-07-07 14:16:00|       18600| 7364 216524|    28895|   PG0242|2017-07-22 14:35:00|\n",
      "|  08A2A5|2017-07-07 21:48:00|       25300| 3635 182357|    28948|   PG0242|2017-07-23 14:35:00|\n",
      "|  08A2A5|2017-07-07 21:48:00|       25300| 8252 507584|    28948|   PG0242|2017-07-23 14:35:00|\n",
      "|  C2CAB7|2017-07-12 22:33:00|        6200| 1026 982766|    28942|   PG0242|2017-07-24 14:35:00|\n",
      "|  C6DA66|2017-07-13 11:38:00|       12400| 7107 950192|    28915|   PG0242|2017-07-25 14:35:00|\n",
      "+--------+-------------------+------------+------------+---------+---------+-------------------+\n",
      "only showing top 20 rows\n",
      "\n"
     ]
    }
   ],
   "source": [
    "joined_df = bookings.join(tickets, 'book_ref') \\\n",
    "    .join(ticket_flights, 'ticket_no') \\\n",
    "    .join(flights, 'flight_id')\n",
    "joined_df.select('book_ref', 'book_date', 'total_amount', 'passenger_id', 'flight_id', 'flight_no', 'scheduled_departure').show()"
   ]
  },
  {
   "cell_type": "markdown",
   "metadata": {},
   "source": [
    "### Summary statistics"
   ]
  },
  {
   "cell_type": "code",
   "execution_count": 49,
   "metadata": {},
   "outputs": [
    {
     "data": {
      "text/plain": [
       "33121"
      ]
     },
     "execution_count": 49,
     "metadata": {},
     "output_type": "execute_result"
    }
   ],
   "source": [
    "flights.count()"
   ]
  },
  {
   "cell_type": "code",
   "execution_count": 50,
   "metadata": {},
   "outputs": [
    {
     "name": "stdout",
     "output_type": "stream",
     "text": [
      "+-----------------+\n",
      "|avg(total_amount)|\n",
      "+-----------------+\n",
      "|79025.60581152869|\n",
      "+-----------------+\n",
      "\n"
     ]
    }
   ],
   "source": [
    "bookings.agg({'total_amount': 'avg'}).show()"
   ]
  },
  {
   "cell_type": "code",
   "execution_count": 55,
   "metadata": {},
   "outputs": [
    {
     "name": "stdout",
     "output_type": "stream",
     "text": [
      "+--------------------+\n",
      "|          min(range)|\n",
      "+--------------------+\n",
      "| \"\"ru\"\": \"\"Аэробу...|\n",
      "+--------------------+\n",
      "\n"
     ]
    }
   ],
   "source": [
    "aircrafts_data.agg({'range': 'min'}).show()"
   ]
  },
  {
   "cell_type": "markdown",
   "metadata": {},
   "source": [
    "### 15 PYSPARK SOLUTION"
   ]
  },
  {
   "cell_type": "code",
   "execution_count": 15,
   "metadata": {},
   "outputs": [
    {
     "data": {
      "text/plain": [
       "33121"
      ]
     },
     "execution_count": 15,
     "metadata": {},
     "output_type": "execute_result"
    }
   ],
   "source": [
    "# 1. Retrieve the total number of flights in the dataset.\n",
    "\n",
    "flights.count()"
   ]
  },
  {
   "cell_type": "code",
   "execution_count": 18,
   "metadata": {},
   "outputs": [
    {
     "name": "stdout",
     "output_type": "stream",
     "text": [
      "+-----------------+\n",
      "|avg(total_amount)|\n",
      "+-----------------+\n",
      "|79025.60581152869|\n",
      "+-----------------+\n",
      "\n"
     ]
    }
   ],
   "source": [
    "#2. Find the average booking amount.\n",
    "\n",
    "bookings.agg({'total_amount': 'avg'}).show()\n"
   ]
  },
  {
   "cell_type": "code",
   "execution_count": 21,
   "metadata": {},
   "outputs": [
    {
     "name": "stdout",
     "output_type": "stream",
     "text": [
      "+-------------+\n",
      "|aircraft_code|\n",
      "+-------------+\n",
      "|          SU9|\n",
      "|          320|\n",
      "|          733|\n",
      "|          773|\n",
      "|          319|\n",
      "|          CN1|\n",
      "|          763|\n",
      "|          321|\n",
      "|          CR2|\n",
      "+-------------+\n",
      "\n"
     ]
    }
   ],
   "source": [
    "#3. List distinct aircraft codes.\n",
    "\n",
    "aircrafts_data.select('aircraft_code').distinct().show()"
   ]
  },
  {
   "cell_type": "code",
   "execution_count": 24,
   "metadata": {},
   "outputs": [
    {
     "name": "stdout",
     "output_type": "stream",
     "text": [
      "+------------+\n",
      "|airport_code|\n",
      "+------------+\n",
      "|         SCW|\n",
      "|         NBC|\n",
      "|         ULV|\n",
      "|         NYM|\n",
      "|         KHV|\n",
      "|         UUA|\n",
      "|         KZN|\n",
      "|         CEK|\n",
      "|         KJA|\n",
      "|         OSW|\n",
      "|         ABA|\n",
      "|         ASF|\n",
      "|         UFA|\n",
      "|         NYA|\n",
      "|         TBW|\n",
      "|         ESL|\n",
      "|         RGK|\n",
      "|         REN|\n",
      "|         NFG|\n",
      "|         VOG|\n",
      "+------------+\n",
      "only showing top 20 rows\n",
      "\n"
     ]
    }
   ],
   "source": [
    "#4. Identify distinct airport codes.\n",
    "\n",
    "airports_data.select('airport_code').distinct().show()"
   ]
  },
  {
   "cell_type": "code",
   "execution_count": 30,
   "metadata": {},
   "outputs": [
    {
     "name": "stdout",
     "output_type": "stream",
     "text": [
      "+---------+-----+\n",
      "|   status|count|\n",
      "+---------+-----+\n",
      "|  Arrived|16707|\n",
      "|  On Time|  518|\n",
      "| Departed|   58|\n",
      "|Cancelled|  414|\n",
      "|Scheduled|15383|\n",
      "|  Delayed|   41|\n",
      "+---------+-----+\n",
      "\n"
     ]
    }
   ],
   "source": [
    "# 5. Count the number of flights per status.\n",
    "\n",
    "flights.groupBy('status').count().show()\n"
   ]
  },
  {
   "cell_type": "code",
   "execution_count": 31,
   "metadata": {},
   "outputs": [
    {
     "name": "stdout",
     "output_type": "stream",
     "text": [
      "+-----------------------+-----------------+\n",
      "|CAST(book_date AS DATE)|sum(total_amount)|\n",
      "+-----------------------+-----------------+\n",
      "|             2017-08-11|        499785400|\n",
      "|             2017-06-29|        145775400|\n",
      "|             2017-07-31|        448733300|\n",
      "|             2017-08-14|        526163900|\n",
      "|             2017-08-10|        480165900|\n",
      "|             2017-06-30|        200531600|\n",
      "|             2017-07-06|        433437900|\n",
      "|             2017-06-28|         87814000|\n",
      "|             2017-08-08|        471848900|\n",
      "|             2017-07-03|        380211300|\n",
      "|             2017-07-30|        426864800|\n",
      "|             2017-08-04|        450783300|\n",
      "|             2017-07-10|        447481900|\n",
      "|             2017-06-25|         14024000|\n",
      "|             2017-07-15|        443461600|\n",
      "|             2017-08-07|        448206600|\n",
      "|             2017-07-26|        435854700|\n",
      "|             2017-08-06|        453079200|\n",
      "|             2017-07-11|        437480000|\n",
      "|             2017-07-12|        428194700|\n",
      "+-----------------------+-----------------+\n",
      "only showing top 20 rows\n",
      "\n"
     ]
    }
   ],
   "source": [
    "# 6. Calculate the total booking amount per day.\n",
    "\n",
    "bookings.groupBy(bookings.book_date.cast('date')).agg({'total_amount': 'sum'}).show()\n"
   ]
  },
  {
   "cell_type": "code",
   "execution_count": 33,
   "metadata": {},
   "outputs": [
    {
     "name": "stdout",
     "output_type": "stream",
     "text": [
      "+---------+---------+-------------------+-------------------+-----------------+---------------+---------+-------------+--------------------+--------------------+\n",
      "|flight_id|flight_no|scheduled_departure|  scheduled_arrival|departure_airport|arrival_airport|   status|aircraft_code|    actual_departure|      actual_arrival|\n",
      "+---------+---------+-------------------+-------------------+-----------------+---------------+---------+-------------+--------------------+--------------------+\n",
      "|     3979|   PG0052|2017-08-25 17:20:00|2017-08-25 20:05:00|              VKO|            HMA|Scheduled|          CR2|                  \\N|                  \\N|\n",
      "|     7784|   PG0667|2017-09-10 17:30:00|2017-09-10 20:00:00|              SVO|            KRO|Scheduled|          CR2|                  \\N|                  \\N|\n",
      "|     9478|   PG0360|2017-08-28 11:30:00|2017-08-28 14:05:00|              LED|            REN|Scheduled|          CR2|                  \\N|                  \\N|\n",
      "|    12012|   PG0621|2017-08-26 18:35:00|2017-08-26 19:30:00|              KZN|            MQF|Scheduled|          CR2|                  \\N|                  \\N|\n",
      "|    14806|   PG0676|2017-09-06 09:35:00|2017-09-06 10:15:00|              PEE|            CEK|Scheduled|          CR2|                  \\N|                  \\N|\n",
      "|    23609|   PG0648|2017-08-31 14:05:00|2017-08-31 15:30:00|              UUA|            SVO|Scheduled|          CR2|                  \\N|                  \\N|\n",
      "|    23695|   PG0388|2017-08-26 13:25:00|2017-08-26 13:55:00|              UUA|            REN|Scheduled|          CR2|                  \\N|                  \\N|\n",
      "|    23945|   PG0076|2017-09-05 11:45:00|2017-09-05 14:20:00|              EYK|            DME|Scheduled|          CR2|                  \\N|                  \\N|\n",
      "|    24705|   PG0632|2017-08-26 17:30:00|2017-08-26 20:05:00|              TJM|            PES|Scheduled|          CR2|                  \\N|                  \\N|\n",
      "|    25382|   PG0556|2017-08-31 11:35:00|2017-08-31 13:25:00|              IKT|            MJZ|Scheduled|          CR2|                  \\N|                  \\N|\n",
      "|    29272|   PG0334|2017-09-05 18:50:00|2017-09-05 21:35:00|              KGD|            ESL|Scheduled|          CR2|                  \\N|                  \\N|\n",
      "|    32658|   PG0674|2017-08-19 12:05:00|2017-08-19 14:30:00|              KRO|            KJA|Scheduled|          CR2|                  \\N|                  \\N|\n",
      "|      611|   PG0416|2017-09-12 21:50:00|2017-09-12 22:25:00|              DME|            VOZ|Scheduled|          CR2|                  \\N|                  \\N|\n",
      "|      612|   PG0416|2017-09-04 21:50:00|2017-09-04 22:25:00|              DME|            VOZ|Scheduled|          CR2|                  \\N|                  \\N|\n",
      "|      613|   PG0416|2017-08-19 21:50:00|2017-08-19 22:25:00|              DME|            VOZ|Scheduled|          CR2|                  \\N|                  \\N|\n",
      "|      614|   PG0416|2017-08-18 21:50:00|2017-08-18 22:25:00|              DME|            VOZ|Scheduled|          CR2|                  \\N|                  \\N|\n",
      "|      615|   PG0416|2017-07-28 21:50:00|2017-07-28 22:25:00|              DME|            VOZ|  Arrived|          CR2|2017-07-28 19:25:...|2017-07-28 20:01:...|\n",
      "|      616|   PG0416|2017-07-17 21:50:00|2017-07-17 22:25:00|              DME|            VOZ|  Arrived|          CR2|2017-07-17 19:24:...|2017-07-17 19:59:...|\n",
      "|      617|   PG0416|2017-08-31 21:50:00|2017-08-31 22:25:00|              DME|            VOZ|Scheduled|          CR2|                  \\N|                  \\N|\n",
      "|      618|   PG0416|2017-08-30 21:50:00|2017-08-30 22:25:00|              DME|            VOZ|Scheduled|          CR2|                  \\N|                  \\N|\n",
      "+---------+---------+-------------------+-------------------+-----------------+---------------+---------+-------------+--------------------+--------------------+\n",
      "only showing top 20 rows\n",
      "\n"
     ]
    }
   ],
   "source": [
    "# 7. Retrieve flights with a specific aircraft code.|\n",
    "\n",
    "flights.filter(flights.aircraft_code == 'CR2').show()"
   ]
  },
  {
   "cell_type": "code",
   "execution_count": 34,
   "metadata": {},
   "outputs": [
    {
     "name": "stdout",
     "output_type": "stream",
     "text": [
      "+-----------------+-----+\n",
      "|departure_airport|count|\n",
      "+-----------------+-----+\n",
      "|              DME| 3217|\n",
      "|              SVO| 2981|\n",
      "|              LED| 1900|\n",
      "|              VKO| 1719|\n",
      "|              OVB| 1055|\n",
      "+-----------------+-----+\n",
      "\n"
     ]
    }
   ],
   "source": [
    "# 8. List the top 5 busiest airports based on departures.\n",
    "\n",
    "flights.groupBy('departure_airport').count().orderBy('count', ascending=False).limit(5).show()"
   ]
  },
  {
   "cell_type": "code",
   "execution_count": 35,
   "metadata": {},
   "outputs": [
    {
     "name": "stdout",
     "output_type": "stream",
     "text": [
      "+---------+---------+-------------------+-------------------+-----------------+---------------+-------+-------------+----------------+--------------+\n",
      "|flight_id|flight_no|scheduled_departure|  scheduled_arrival|departure_airport|arrival_airport| status|aircraft_code|actual_departure|actual_arrival|\n",
      "+---------+---------+-------------------+-------------------+-----------------+---------------+-------+-------------+----------------+--------------+\n",
      "|        5|   PG0405|2017-08-16 12:05:00|2017-08-16 13:00:00|              DME|            LED|On Time|          321|              \\N|            \\N|\n",
      "|        8|   PG0402|2017-08-16 14:55:00|2017-08-16 15:50:00|              DME|            LED|On Time|          321|              \\N|            \\N|\n",
      "|       47|   PG0404|2017-08-15 21:35:00|2017-08-15 22:30:00|              DME|            LED|On Time|          321|              \\N|            \\N|\n",
      "|      304|   PG0222|2017-08-16 13:35:00|2017-08-16 17:00:00|              DME|            OVB|On Time|          773|              \\N|            \\N|\n",
      "|      349|   PG0202|2017-08-16 13:10:00|2017-08-16 14:05:00|              DME|            KZN|On Time|          321|              \\N|            \\N|\n",
      "|      483|   PG0216|2017-08-16 16:40:00|2017-08-16 17:45:00|              DME|            KUF|On Time|          763|              \\N|            \\N|\n",
      "|      604|   PG0213|2017-08-15 21:50:00|2017-08-15 23:05:00|              DME|            ROV|On Time|          321|              \\N|            \\N|\n",
      "|      659|   PG0416|2017-08-15 21:50:00|2017-08-15 22:25:00|              DME|            VOZ|On Time|          CR2|              \\N|            \\N|\n",
      "|      706|   PG0055|2017-08-16 16:40:00|2017-08-16 17:55:00|              DME|            TBW|On Time|          CN1|              \\N|            \\N|\n",
      "|      766|   PG0054|2017-08-16 19:35:00|2017-08-16 20:50:00|              DME|            TBW|On Time|          CN1|              \\N|            \\N|\n",
      "|      817|   PG0045|2017-08-16 14:15:00|2017-08-16 16:20:00|              DME|            GRV|On Time|          CR2|              \\N|            \\N|\n",
      "|      898|   PG0341|2017-08-16 13:20:00|2017-08-16 14:25:00|              DME|            PES|On Time|          CR2|              \\N|            \\N|\n",
      "|      967|   PG0368|2017-08-16 18:05:00|2017-08-16 21:20:00|              DME|            NJC|On Time|          CR2|              \\N|            \\N|\n",
      "|     1023|   PG0335|2017-08-16 12:00:00|2017-08-16 14:05:00|              DME|            JOK|On Time|          CN1|              \\N|            \\N|\n",
      "|     1098|   PG0517|2017-08-16 13:00:00|2017-08-16 14:20:00|              DME|            SCW|On Time|          763|              \\N|            \\N|\n",
      "|     1126|   PG0136|2017-08-16 18:00:00|2017-08-16 20:00:00|              DME|            NAL|On Time|          CR2|              \\N|            \\N|\n",
      "|     1208|   PG0134|2017-08-16 12:20:00|2017-08-16 17:25:00|              DME|            BTK|On Time|          319|              \\N|            \\N|\n",
      "|     1304|   PG0168|2017-08-15 22:35:00|2017-08-16 07:25:00|              DME|            UUS|On Time|          319|              \\N|            \\N|\n",
      "|     1358|   PG0164|2017-08-16 17:55:00|2017-08-16 21:05:00|              DME|            NUX|On Time|          SU9|              \\N|            \\N|\n",
      "|     1421|   PG0509|2017-08-16 11:45:00|2017-08-16 13:15:00|              DME|            ESL|On Time|          SU9|              \\N|            \\N|\n",
      "+---------+---------+-------------------+-------------------+-----------------+---------------+-------+-------------+----------------+--------------+\n",
      "only showing top 20 rows\n",
      "\n"
     ]
    }
   ],
   "source": [
    "# 9. Find flights that departed on time.\n",
    "\n",
    "flights.filter(flights.status == 'On Time').show()"
   ]
  },
  {
   "cell_type": "code",
   "execution_count": 3,
   "metadata": {},
   "outputs": [],
   "source": [
    "from pyspark.sql.functions import unix_timestamp, expr, avg"
   ]
  },
  {
   "cell_type": "code",
   "execution_count": 14,
   "metadata": {},
   "outputs": [],
   "source": [
    "# 10. Calculate the average delay time per airline.\n",
    "flights.withColumn('delay', (unix_timestamp('actual_arrival') - unix_timestamp('scheduled_arrival')) / 60).groupBy('airline').avg('delay').show()\n"
   ]
  },
  {
   "cell_type": "code",
   "execution_count": 51,
   "metadata": {},
   "outputs": [
    {
     "name": "stdout",
     "output_type": "stream",
     "text": [
      "+---------------------------------+-----+\n",
      "|CAST(scheduled_departure AS DATE)|count|\n",
      "+---------------------------------+-----+\n",
      "|                       2017-09-14|  287|\n",
      "+---------------------------------+-----+\n",
      "\n"
     ]
    }
   ],
   "source": [
    "# 11. Identify the day with the highest number of cancellations.\n",
    "\n",
    "flights.filter(flights.status == 'Cancelled').groupBy(flights.scheduled_departure.cast('date')).count().orderBy('count', ascending=False).limit(1).show()\n"
   ]
  },
  {
   "cell_type": "code",
   "execution_count": 59,
   "metadata": {},
   "outputs": [
    {
     "name": "stdout",
     "output_type": "stream",
     "text": [
      "+---------------+------------------+\n",
      "|arrival_airport|on_time_percentage|\n",
      "+---------------+------------------+\n",
      "|            SCW|              1.58|\n",
      "|            NBC|              1.33|\n",
      "|            ULV|              1.53|\n",
      "|            NYM|              1.43|\n",
      "|            UUA|              1.09|\n",
      "|            KHV|              1.74|\n",
      "|            KZN|              1.91|\n",
      "|            CEK|              1.46|\n",
      "|            KJA|              1.56|\n",
      "|            ABA|              1.28|\n",
      "|            OSW|              1.43|\n",
      "|            ASF|              1.35|\n",
      "|            UFA|              1.82|\n",
      "|            TBW|              1.64|\n",
      "|            NYA|               0.0|\n",
      "|            ESL|              2.03|\n",
      "|            RGK|              3.41|\n",
      "|            REN|              1.64|\n",
      "|            VOG|              1.27|\n",
      "|            NFG|              2.27|\n",
      "+---------------+------------------+\n",
      "only showing top 20 rows\n",
      "\n"
     ]
    }
   ],
   "source": [
    "# 12. Calculate the percentage of on-time arrivals per airport.\n",
    "flights.groupBy('arrival_airport').agg(expr(\"round(sum(case when status = 'On Time' then 1 else 0 end) / count(*) * 100, 2)\").alias('on_time_percentage')).show()\n"
   ]
  },
  {
   "cell_type": "code",
   "execution_count": 60,
   "metadata": {},
   "outputs": [
    {
     "name": "stdout",
     "output_type": "stream",
     "text": [
      "+---------+---------+-------------------+-------------------+-----------------+---------------+---------+-------------+----------------+--------------+---------------+\n",
      "|flight_id|flight_no|scheduled_departure|  scheduled_arrival|departure_airport|arrival_airport|   status|aircraft_code|actual_departure|actual_arrival|flight_duration|\n",
      "+---------+---------+-------------------+-------------------+-----------------+---------------+---------+-------------+----------------+--------------+---------------+\n",
      "|     1247|   PG0168|2017-09-13 22:35:00|2017-09-14 07:25:00|              DME|            UUS|Scheduled|          319|              \\N|            \\N|          530.0|\n",
      "+---------+---------+-------------------+-------------------+-----------------+---------------+---------+-------------+----------------+--------------+---------------+\n",
      "\n"
     ]
    }
   ],
   "source": [
    "# 13. Find the longest flight (based on scheduled time).\n",
    "\n",
    "flights.withColumn('flight_duration', expr(\"(unix_timestamp(scheduled_arrival) - unix_timestamp(scheduled_departure)) / 60\")).orderBy('flight_duration', ascending=False).limit(1).show()"
   ]
  },
  {
   "cell_type": "code",
   "execution_count": 62,
   "metadata": {},
   "outputs": [
    {
     "name": "stdout",
     "output_type": "stream",
     "text": [
      "+--------------------+----------+\n",
      "|               model|avg(range)|\n",
      "+--------------------+----------+\n",
      "|\"{\"\"en\"\": \"\"Airbu...|      NULL|\n",
      "|\"{\"\"en\"\": \"\"Bomba...|      NULL|\n",
      "|\"{\"\"en\"\": \"\"Boein...|      NULL|\n",
      "|\"{\"\"en\"\": \"\"Airbu...|      NULL|\n",
      "|\"{\"\"en\"\": \"\"Cessn...|      NULL|\n",
      "|\"{\"\"en\"\": \"\"Sukho...|      NULL|\n",
      "|\"{\"\"en\"\": \"\"Airbu...|      NULL|\n",
      "|\"{\"\"en\"\": \"\"Boein...|      NULL|\n",
      "|\"{\"\"en\"\": \"\"Boein...|      NULL|\n",
      "+--------------------+----------+\n",
      "\n"
     ]
    }
   ],
   "source": [
    "# 14. Determine the average flight range for each aircraft model.\n",
    "\n",
    "aircrafts_data.groupBy('model').agg({'range': 'avg'}).show()"
   ]
  },
  {
   "cell_type": "code",
   "execution_count": 67,
   "metadata": {},
   "outputs": [
    {
     "name": "stdout",
     "output_type": "stream",
     "text": [
      "+--------------------+-----------+\n",
      "|               model|sum(amount)|\n",
      "+--------------------+-----------+\n",
      "|\"{\"\"en\"\": \"\"Bomba...| 1982760500|\n",
      "|\"{\"\"en\"\": \"\"Boein...| 1426552100|\n",
      "|\"{\"\"en\"\": \"\"Airbu...| 2706163100|\n",
      "|\"{\"\"en\"\": \"\"Cessn...|   96373800|\n",
      "|\"{\"\"en\"\": \"\"Sukho...| 5114484700|\n",
      "|\"{\"\"en\"\": \"\"Airbu...| 1638164100|\n",
      "|\"{\"\"en\"\": \"\"Boein...| 3431205500|\n",
      "|\"{\"\"en\"\": \"\"Boein...| 4371277100|\n",
      "+--------------------+-----------+\n",
      "\n"
     ]
    }
   ],
   "source": [
    "# 15. Calculate the total revenue generated by each aircraft model.\n",
    "\n",
    "aircrafts_data.join(flights, 'aircraft_code').join(ticket_flights, 'flight_id').groupBy('model').agg({'amount': 'sum'}).show()"
   ]
  },
  {
   "cell_type": "markdown",
   "metadata": {},
   "source": [
    "## END"
   ]
  }
 ],
 "metadata": {
  "kernelspec": {
   "display_name": "my_venv",
   "language": "python",
   "name": "python3"
  },
  "language_info": {
   "codemirror_mode": {
    "name": "ipython",
    "version": 3
   },
   "file_extension": ".py",
   "mimetype": "text/x-python",
   "name": "python",
   "nbconvert_exporter": "python",
   "pygments_lexer": "ipython3",
   "version": "3.12.3"
  }
 },
 "nbformat": 4,
 "nbformat_minor": 2
}
